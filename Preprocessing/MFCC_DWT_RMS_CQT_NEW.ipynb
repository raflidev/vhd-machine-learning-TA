{
 "cells": [
  {
   "cell_type": "code",
   "execution_count": 1,
   "metadata": {},
   "outputs": [
    {
     "name": "stderr",
     "output_type": "stream",
     "text": [
      "2023-10-13 23:22:03.640052: I tensorflow/tsl/cuda/cudart_stub.cc:28] Could not find cuda drivers on your machine, GPU will not be used.\n",
      "2023-10-13 23:22:03.801388: E tensorflow/compiler/xla/stream_executor/cuda/cuda_dnn.cc:9342] Unable to register cuDNN factory: Attempting to register factory for plugin cuDNN when one has already been registered\n",
      "2023-10-13 23:22:03.801422: E tensorflow/compiler/xla/stream_executor/cuda/cuda_fft.cc:609] Unable to register cuFFT factory: Attempting to register factory for plugin cuFFT when one has already been registered\n",
      "2023-10-13 23:22:03.802242: E tensorflow/compiler/xla/stream_executor/cuda/cuda_blas.cc:1518] Unable to register cuBLAS factory: Attempting to register factory for plugin cuBLAS when one has already been registered\n",
      "2023-10-13 23:22:03.884734: I tensorflow/tsl/cuda/cudart_stub.cc:28] Could not find cuda drivers on your machine, GPU will not be used.\n",
      "2023-10-13 23:22:03.885574: I tensorflow/core/platform/cpu_feature_guard.cc:182] This TensorFlow binary is optimized to use available CPU instructions in performance-critical operations.\n",
      "To enable the following instructions: AVX2 FMA, in other operations, rebuild TensorFlow with the appropriate compiler flags.\n",
      "2023-10-13 23:22:05.222853: W tensorflow/compiler/tf2tensorrt/utils/py_utils.cc:38] TF-TRT Warning: Could not find TensorRT\n"
     ]
    }
   ],
   "source": [
    "import csv\n",
    "import os\n",
    "import numpy as np\n",
    "import librosa\n",
    "import pandas as pd\n",
    "from sklearn.preprocessing import StandardScaler, LabelEncoder\n",
    "from sklearn.model_selection import train_test_split\n",
    "from tensorflow.keras import models, layers\n",
    "import tensorflow as tf\n",
    "import matplotlib.pyplot as plt\n",
    "from pywt import wavedec"
   ]
  },
  {
   "cell_type": "code",
   "execution_count": 2,
   "metadata": {},
   "outputs": [],
   "source": [
    "dataset_path = \"../data/DWT_NEW/\""
   ]
  },
  {
   "cell_type": "code",
   "execution_count": 3,
   "metadata": {},
   "outputs": [],
   "source": [
    "header = 'filename'\n",
    "for i in range(1, 41):\n",
    "  header += f' mfcc{i}'\n",
    "for i in range(1, 13):\n",
    "  header += f' chroma{i}'\n",
    "for i in range(1, 61):\n",
    "  header += f' cqt{i}'\n",
    "header += ' label'\n",
    "header = header.split()"
   ]
  },
  {
   "cell_type": "code",
   "execution_count": 25,
   "metadata": {},
   "outputs": [],
   "source": [
    "db = 'db10'\n",
    "for i in range(1, 11):\n",
    "  file = open(f'./test/{db}/data_MfccDwtChromaCqt{db}L{i}.csv', 'w', newline='')\n",
    "\n",
    "  with file:\n",
    "    writer = csv.writer(file)\n",
    "    writer.writerow(header)\n",
    "\n",
    "# file = open('data_mfccRMScqtdb1L10.csv', 'w', newline='')\n",
    "\n",
    "# with file:\n",
    "#   writer = csv.writer(file)\n",
    "#   writer.writerow(header)"
   ]
  },
  {
   "cell_type": "code",
   "execution_count": 26,
   "metadata": {},
   "outputs": [
    {
     "name": "stdout",
     "output_type": "stream",
     "text": [
      "\n",
      "Processing: MVP\n"
     ]
    },
    {
     "name": "stderr",
     "output_type": "stream",
     "text": [
      "/home/rafli/anaconda3/envs/tf/lib/python3.11/site-packages/librosa/core/spectrum.py:257: UserWarning: n_fft=2048 is too large for input signal of length=1389\n",
      "  warnings.warn(\n",
      "/home/rafli/anaconda3/envs/tf/lib/python3.11/site-packages/librosa/core/spectrum.py:257: UserWarning: n_fft=2048 is too large for input signal of length=1758\n",
      "  warnings.warn(\n",
      "/home/rafli/anaconda3/envs/tf/lib/python3.11/site-packages/librosa/core/spectrum.py:257: UserWarning: n_fft=2048 is too large for input signal of length=453\n",
      "  warnings.warn(\n",
      "/home/rafli/anaconda3/envs/tf/lib/python3.11/site-packages/librosa/core/spectrum.py:257: UserWarning: n_fft=2048 is too large for input signal of length=1970\n",
      "  warnings.warn(\n",
      "/home/rafli/anaconda3/envs/tf/lib/python3.11/site-packages/librosa/core/spectrum.py:257: UserWarning: n_fft=2048 is too large for input signal of length=1872\n",
      "  warnings.warn(\n",
      "/home/rafli/anaconda3/envs/tf/lib/python3.11/site-packages/librosa/core/spectrum.py:257: UserWarning: n_fft=2048 is too large for input signal of length=1517\n",
      "  warnings.warn(\n",
      "/home/rafli/anaconda3/envs/tf/lib/python3.11/site-packages/librosa/core/spectrum.py:257: UserWarning: n_fft=2048 is too large for input signal of length=768\n",
      "  warnings.warn(\n",
      "/home/rafli/anaconda3/envs/tf/lib/python3.11/site-packages/librosa/core/spectrum.py:257: UserWarning: n_fft=2048 is too large for input signal of length=393\n",
      "  warnings.warn(\n",
      "/home/rafli/anaconda3/envs/tf/lib/python3.11/site-packages/librosa/core/spectrum.py:257: UserWarning: n_fft=512 is too large for input signal of length=393\n",
      "  warnings.warn(\n",
      "/home/rafli/anaconda3/envs/tf/lib/python3.11/site-packages/librosa/core/spectrum.py:257: UserWarning: n_fft=2048 is too large for input signal of length=1809\n",
      "  warnings.warn(\n",
      "/home/rafli/anaconda3/envs/tf/lib/python3.11/site-packages/librosa/core/spectrum.py:257: UserWarning: n_fft=2048 is too large for input signal of length=914\n",
      "  warnings.warn(\n"
     ]
    },
    {
     "name": "stdout",
     "output_type": "stream",
     "text": [
      "\n",
      "Processing: MS\n"
     ]
    },
    {
     "name": "stderr",
     "output_type": "stream",
     "text": [
      "/home/rafli/anaconda3/envs/tf/lib/python3.11/site-packages/librosa/core/spectrum.py:257: UserWarning: n_fft=2048 is too large for input signal of length=767\n",
      "  warnings.warn(\n",
      "/home/rafli/anaconda3/envs/tf/lib/python3.11/site-packages/librosa/core/spectrum.py:257: UserWarning: n_fft=2048 is too large for input signal of length=392\n",
      "  warnings.warn(\n",
      "/home/rafli/anaconda3/envs/tf/lib/python3.11/site-packages/librosa/core/spectrum.py:257: UserWarning: n_fft=512 is too large for input signal of length=392\n",
      "  warnings.warn(\n"
     ]
    },
    {
     "name": "stdout",
     "output_type": "stream",
     "text": [
      "\n",
      "Processing: N\n",
      "\n",
      "Processing: MR\n"
     ]
    },
    {
     "name": "stderr",
     "output_type": "stream",
     "text": [
      "/home/rafli/anaconda3/envs/tf/lib/python3.11/site-packages/librosa/core/spectrum.py:257: UserWarning: n_fft=2048 is too large for input signal of length=1822\n",
      "  warnings.warn(\n",
      "/home/rafli/anaconda3/envs/tf/lib/python3.11/site-packages/librosa/core/spectrum.py:257: UserWarning: n_fft=2048 is too large for input signal of length=920\n",
      "  warnings.warn(\n",
      "/home/rafli/anaconda3/envs/tf/lib/python3.11/site-packages/librosa/core/spectrum.py:257: UserWarning: n_fft=2048 is too large for input signal of length=1783\n",
      "  warnings.warn(\n",
      "/home/rafli/anaconda3/envs/tf/lib/python3.11/site-packages/librosa/core/spectrum.py:257: UserWarning: n_fft=2048 is too large for input signal of length=1902\n",
      "  warnings.warn(\n",
      "/home/rafli/anaconda3/envs/tf/lib/python3.11/site-packages/librosa/core/spectrum.py:257: UserWarning: n_fft=2048 is too large for input signal of length=960\n",
      "  warnings.warn(\n",
      "/home/rafli/anaconda3/envs/tf/lib/python3.11/site-packages/librosa/core/spectrum.py:257: UserWarning: n_fft=2048 is too large for input signal of length=1630\n",
      "  warnings.warn(\n",
      "/home/rafli/anaconda3/envs/tf/lib/python3.11/site-packages/librosa/core/spectrum.py:257: UserWarning: n_fft=2048 is too large for input signal of length=824\n",
      "  warnings.warn(\n",
      "/home/rafli/anaconda3/envs/tf/lib/python3.11/site-packages/librosa/core/spectrum.py:257: UserWarning: n_fft=2048 is too large for input signal of length=1682\n",
      "  warnings.warn(\n",
      "/home/rafli/anaconda3/envs/tf/lib/python3.11/site-packages/librosa/core/spectrum.py:257: UserWarning: n_fft=2048 is too large for input signal of length=850\n",
      "  warnings.warn(\n",
      "/home/rafli/anaconda3/envs/tf/lib/python3.11/site-packages/librosa/core/spectrum.py:257: UserWarning: n_fft=2048 is too large for input signal of length=1681\n",
      "  warnings.warn(\n",
      "/home/rafli/anaconda3/envs/tf/lib/python3.11/site-packages/librosa/core/spectrum.py:257: UserWarning: n_fft=2048 is too large for input signal of length=950\n",
      "  warnings.warn(\n",
      "/home/rafli/anaconda3/envs/tf/lib/python3.11/site-packages/librosa/core/spectrum.py:257: UserWarning: n_fft=2048 is too large for input signal of length=1933\n",
      "  warnings.warn(\n",
      "/home/rafli/anaconda3/envs/tf/lib/python3.11/site-packages/librosa/core/spectrum.py:257: UserWarning: n_fft=2048 is too large for input signal of length=1592\n",
      "  warnings.warn(\n",
      "/home/rafli/anaconda3/envs/tf/lib/python3.11/site-packages/librosa/core/spectrum.py:257: UserWarning: n_fft=2048 is too large for input signal of length=805\n",
      "  warnings.warn(\n",
      "/home/rafli/anaconda3/envs/tf/lib/python3.11/site-packages/librosa/core/spectrum.py:257: UserWarning: n_fft=512 is too large for input signal of length=403\n",
      "  warnings.warn(\n",
      "/home/rafli/anaconda3/envs/tf/lib/python3.11/site-packages/librosa/core/spectrum.py:257: UserWarning: n_fft=2048 is too large for input signal of length=481\n",
      "  warnings.warn(\n"
     ]
    },
    {
     "name": "stdout",
     "output_type": "stream",
     "text": [
      "\n",
      "Processing: AS\n"
     ]
    },
    {
     "name": "stderr",
     "output_type": "stream",
     "text": [
      "/home/rafli/anaconda3/envs/tf/lib/python3.11/site-packages/librosa/core/spectrum.py:257: UserWarning: n_fft=2048 is too large for input signal of length=1516\n",
      "  warnings.warn(\n"
     ]
    }
   ],
   "source": [
    "for i, (dirpath, dirnames, filenames) in enumerate(os.walk(dataset_path)):\n",
    "        # ensure we're processing a genre sub-folder level\n",
    "        if dirpath is not dataset_path:\n",
    "          semantic_label = dirpath.split(\"/\")[-1]\n",
    "          print(\"\\nProcessing: {}\".format(semantic_label))\n",
    "          for f in filenames:\n",
    "              file_path = os.path.join(dirpath, f)\n",
    "              to_append = f'{file_path}'\n",
    "              y, sr = librosa.load(file_path, mono=True, duration=3, sr=8000)\n",
    "              coeffs = wavedec(y, db, level=10)\n",
    "              cA,cD10,cD9,cD8,cD7,cD6,cD5,cD4,cD3,cD2, cD1 = coeffs\n",
    "              index = 1\n",
    "              for i in [cD1, cD2, cD3, cD4, cD5, cD6, cD7, cD8, cD9, cD10]:\n",
    "                to_append = f'{file_path}'\n",
    "                mfcc = librosa.feature.mfcc(y=i, sr=8000, n_mfcc=40, n_fft=2048, hop_length=512, n_mels=128)\n",
    "                rms = librosa.feature.chroma_stft(y=i, sr=8000)\n",
    "                cqt = np.abs(librosa.cqt(y=i, sr=sr, n_bins=60))\n",
    "                combined_features = np.concatenate((mfcc, rms, cqt), axis=0)\n",
    "                for e in combined_features:\n",
    "                    to_append += f' {np.mean(e.T, axis=0)}'\n",
    "                to_append += f' {semantic_label}'\n",
    "                file = open(f'./test/{db}/data_MfccDwtChromaCqt{db}L{index}.csv', 'a', newline='')\n",
    "                with file:\n",
    "                    writer = csv.writer(file)\n",
    "                    writer.writerow(to_append.split())\n",
    "                index += 1"
   ]
  },
  {
   "cell_type": "code",
   "execution_count": null,
   "metadata": {},
   "outputs": [
    {
     "name": "stdout",
     "output_type": "stream",
     "text": [
      "[[5.5578951e-04 5.2465202e-04 4.7824718e-04 ... 2.6816320e-05\n",
      "  1.0098839e-05 1.0232566e-05]\n",
      " [7.4607373e-04 7.7957159e-04 7.9281128e-04 ... 1.5380596e-05\n",
      "  6.9093003e-06 6.5242480e-06]\n",
      " [6.3109375e-04 6.5585546e-04 6.4920972e-04 ... 8.3030291e-06\n",
      "  2.4576757e-05 7.0214001e-06]\n",
      " ...\n",
      " [3.8454000e-05 4.1432580e-04 3.5612579e-04 ... 7.2860945e-05\n",
      "  4.8273392e-05 1.8371273e-05]\n",
      " [4.3290929e-05 5.9593690e-04 4.3738610e-04 ... 6.8681846e-05\n",
      "  5.9656817e-05 2.7013150e-05]\n",
      " [6.1337101e-05 2.8342803e-04 3.5775651e-04 ... 8.5321240e-05\n",
      "  4.0038572e-05 2.9290588e-05]]\n",
      "(125, 57)\n"
     ]
    }
   ],
   "source": [
    "from pywt import wavedec\n",
    "# Load an audio file (replace 'your_audio_file.wav' with the actual path to your audio file)\n",
    "audio_file = '../data/training/AS/New_AS_002.wav'\n",
    "y, sr = librosa.load(audio_file)\n",
    "\n",
    "coeffs = wavedec(y, 'db1', level=10)\n",
    "cA,cD10,cD9,cD8,cD7,cD6,cD5,cD4,cD3,cD2, cD1 = coeffs\n",
    "\n",
    "# Compute MFCCs\n",
    "mfccs = librosa.feature.mfcc(y=cD1, sr=sr, n_mfcc=40)  # You can adjust the number of MFCC coefficients as needed\n",
    "\n",
    "# Compute RMS\n",
    "rms = librosa.feature.rms(y=cD1)[0]\n",
    "cqt = np.abs(librosa.cqt(y=cD1, sr=sr)) \n",
    "\n",
    "# Combine MFCC and RMS features by concatenating them\n",
    "combined_features = np.concatenate((mfccs, rms.reshape(1, -1), cqt), axis=0)\n",
    "\n",
    "# Now combined_features contains both MFCC and RMS features\n",
    "print(cqt)\n",
    "# print(mfccs.shape)\n",
    "# print(rms.reshape(1, -1))\n",
    "print(combined_features.shape)"
   ]
  }
 ],
 "metadata": {
  "kernelspec": {
   "display_name": "tf",
   "language": "python",
   "name": "python3"
  },
  "language_info": {
   "codemirror_mode": {
    "name": "ipython",
    "version": 3
   },
   "file_extension": ".py",
   "mimetype": "text/x-python",
   "name": "python",
   "nbconvert_exporter": "python",
   "pygments_lexer": "ipython3",
   "version": "3.11.5"
  },
  "orig_nbformat": 4
 },
 "nbformat": 4,
 "nbformat_minor": 2
}
